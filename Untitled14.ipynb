{
  "nbformat": 4,
  "nbformat_minor": 0,
  "metadata": {
    "colab": {
      "provenance": []
    },
    "kernelspec": {
      "name": "python3",
      "display_name": "Python 3"
    },
    "language_info": {
      "name": "python"
    }
  },
  "cells": [
    {
      "cell_type": "code",
      "execution_count": null,
      "metadata": {
        "id": "3t79QXSTzvkQ"
      },
      "outputs": [],
      "source": [
        "nilaiujian = [80,75.70,20,30,90,70,21,88,85.75]\n",
        "print(nilaiujian)\n",
        "namapahlawan = ['ir soekarno', 'Moehammad Hatta', 'Raden Ajeng Kartini', 'Sulltan Hamengkubuwono IX']\n",
        "print(namapahlawan)\n",
        "nilaicampuran = ['ES JERUK', 2,3, True]\n",
        "print(nilaicampuran)\n",
        "listdalamlist = [21,[23,20], 45]\n",
        "print(listdalamlist)\n"
      ]
    },
    {
      "cell_type": "code",
      "source": [
        "#definisikan list yang berisi nilai angka\n",
        "data = [10,20,30,40]\n",
        "#ubah nilai ke 0 menjadi 50\n",
        "data[0] = 50\n",
        "#print output\n",
        "print(data)\n"
      ],
      "metadata": {
        "id": "PJW9VAJkz3BR"
      },
      "execution_count": null,
      "outputs": []
    },
    {
      "cell_type": "code",
      "source": [
        "var1 = (1,2,3,4,5,6)\n",
        "var2 = (7,8,9,10,12)\n",
        "Varjumlah = var1 + var2\n",
        "print(Varjumlah)"
      ],
      "metadata": {
        "id": "Aih3ePD8z3Fi"
      },
      "execution_count": null,
      "outputs": []
    },
    {
      "cell_type": "code",
      "source": [
        "var1 = [1,2,3,4,5,6]\n",
        "var2 = [1,2,3,4,5,6]*2\n",
        "print(var2)\n"
      ],
      "metadata": {
        "id": "bS2pX9QRz3LC"
      },
      "execution_count": null,
      "outputs": []
    },
    {
      "cell_type": "code",
      "source": [
        "nama = ['matahari', 'Bulan', 'mentari', 'pak dida']\n",
        "nama1 = nama[0]\n",
        "print(nama1)\n",
        "nama2 = nama[3]\n",
        "print(nama2)\n",
        "\n",
        "#dari belakang\n",
        "nama3 = nama[-1]\n",
        "print(nama3)\n",
        "nama4 = nama[-3]\n",
        "print(nama4)"
      ],
      "metadata": {
        "id": "z9DCq0Ayz3S9"
      },
      "execution_count": null,
      "outputs": []
    },
    {
      "cell_type": "code",
      "source": [
        "nama =['felix', 'adine', 'joeken', 'ryan']\n",
        "nama.append(['roy', 'ben'])\n",
        "print(nama)"
      ],
      "metadata": {
        "id": "sgkRno9Vz3YS"
      },
      "execution_count": null,
      "outputs": []
    },
    {
      "cell_type": "code",
      "source": [
        "nama =['felix', 'adine', 'joeken', 'ryan']\n",
        "nama.extend(['roy', 'ben'])\n",
        "print(nama)"
      ],
      "metadata": {
        "id": "GylEoxt7z3cs"
      },
      "execution_count": null,
      "outputs": []
    },
    {
      "cell_type": "code",
      "source": [
        "nama =['zooo','felix', 'adine', 'joeken', 'ryan','xoe','zoooooo']\n",
        "nama.sort()\n",
        "print(nama)"
      ],
      "metadata": {
        "id": "tz_iLN8uUHmW"
      },
      "execution_count": null,
      "outputs": []
    },
    {
      "cell_type": "code",
      "source": [
        "data = ['joe', 'felix', 'adine', 'dharma', 'caren']\n",
        "data.pop(2)\n",
        "print(data)"
      ],
      "metadata": {
        "id": "-hYNoSMtUHvU"
      },
      "execution_count": null,
      "outputs": []
    },
    {
      "cell_type": "code",
      "source": [
        "datax = ['joe', 'felix', 'adine', 'dharma', 'caren']\n",
        "del datax[2]\n",
        "print(datax)\n",
        "del datax[0:1]\n",
        "print(datax)"
      ],
      "metadata": {
        "id": "PB5U6gxsUH0R"
      },
      "execution_count": null,
      "outputs": []
    },
    {
      "cell_type": "code",
      "source": [
        "datat = ['joe', 'felix', 'adine', 'dharma', 'caren']\n",
        "datat.remove(\"dharma\")\n",
        "print(datat)\n"
      ],
      "metadata": {
        "id": "8mB7qmPPUH4v"
      },
      "execution_count": null,
      "outputs": []
    },
    {
      "cell_type": "code",
      "source": [
        "angka =[1,2,3,4,5]\n",
        "angkalen = len(angka)\n",
        "print(angkalen)\n",
        "angkamax = max(angka)\n",
        "print(angkamax)\n",
        "angkamin = min(angka)\n",
        "print(angkamin)\n",
        "angkasum = sum(angka)\n",
        "print(angkasum)"
      ],
      "metadata": {
        "id": "bJdisB_rUH87"
      },
      "execution_count": null,
      "outputs": []
    },
    {
      "cell_type": "code",
      "source": [
        "names = \"matahaari\"\n",
        "namalist = list(names)\n",
        "print(namalist)"
      ],
      "metadata": {
        "id": "mBSRD91KxPas"
      },
      "execution_count": null,
      "outputs": []
    },
    {
      "cell_type": "code",
      "source": [
        "kalimat = \"saya suka matahari terbit\"\n",
        "split = kalimat.split()\n",
        "print(split)"
      ],
      "metadata": {
        "id": "VnOX1PKtxPgm"
      },
      "execution_count": null,
      "outputs": []
    },
    {
      "cell_type": "code",
      "source": [
        "kalimat = \"saya-suka-matahari-terbit\"\n",
        "split = kalimat.split('-')\n",
        "print(split)\n",
        "delimiter = ' '\n",
        "a = delimiter.join(split)\n",
        "print(a)"
      ],
      "metadata": {
        "id": "L9F-WRJsxPlE"
      },
      "execution_count": null,
      "outputs": []
    },
    {
      "cell_type": "code",
      "source": [
        "a = [1,2]\n",
        "b = a.append(3)\n",
        "c = a +[3]\n",
        "print(a)\n",
        "print(b)\n",
        "print(c)"
      ],
      "metadata": {
        "id": "qm1-JA_cxPqP"
      },
      "execution_count": null,
      "outputs": []
    },
    {
      "cell_type": "code",
      "source": [
        "def hapus(lists):\n",
        "    return lists[1:]\n",
        "huruf =['a','b','c','d']\n",
        "hasil = hapus(huruf)\n",
        "print(hasil)"
      ],
      "metadata": {
        "id": "aXc4F_W2xPu3"
      },
      "execution_count": null,
      "outputs": []
    }
  ]
}